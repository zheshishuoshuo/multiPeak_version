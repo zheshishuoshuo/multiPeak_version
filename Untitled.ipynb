{
 "cells": [
  {
   "cell_type": "code",
   "execution_count": 67,
   "id": "6f5d20d9-cacf-4b4f-a251-7f393862948d",
   "metadata": {
    "execution": {
     "iopub.execute_input": "2025-07-29T03:48:37.516374Z",
     "iopub.status.busy": "2025-07-29T03:48:37.516021Z",
     "iopub.status.idle": "2025-07-29T03:48:37.548906Z",
     "shell.execute_reply": "2025-07-29T03:48:37.548153Z",
     "shell.execute_reply.started": "2025-07-29T03:48:37.516350Z"
    },
    "tags": []
   },
   "outputs": [
    {
     "ename": "AttributeError",
     "evalue": "You must run the sampler with 'store == True' before accessing the results",
     "output_type": "error",
     "traceback": [
      "\u001b[0;31m---------------------------------------------------------------------------\u001b[0m",
      "\u001b[0;31mAttributeError\u001b[0m                            Traceback (most recent call last)",
      "\u001b[0;32m/tmp/ipykernel_404312/3674394125.py\u001b[0m in \u001b[0;36m<module>\u001b[0;34m\u001b[0m\n\u001b[1;32m     63\u001b[0m     \u001b[0mlabels\u001b[0m\u001b[0;34m=\u001b[0m\u001b[0;34m[\u001b[0m\u001b[0;34mr\"$\\mu_{\\rm DM}$\"\u001b[0m\u001b[0;34m,\u001b[0m \u001b[0;34mr\"$\\sigma_{\\rm DM}$\"\u001b[0m\u001b[0;34m,\u001b[0m \u001b[0;34mr\"$\\mu_\\alpha$\"\u001b[0m\u001b[0;34m,\u001b[0m \u001b[0;34mr\"$\\sigma_\\alpha$\"\u001b[0m\u001b[0;34m]\u001b[0m\u001b[0;34m,\u001b[0m\u001b[0;34m\u001b[0m\u001b[0;34m\u001b[0m\u001b[0m\n\u001b[1;32m     64\u001b[0m     \u001b[0mtruths\u001b[0m\u001b[0;34m=\u001b[0m\u001b[0;34m[\u001b[0m\u001b[0;36m12.4\u001b[0m\u001b[0;34m,\u001b[0m \u001b[0;36m0.3\u001b[0m\u001b[0;34m,\u001b[0m \u001b[0;36m0.1\u001b[0m\u001b[0;34m,\u001b[0m \u001b[0;36m0.1\u001b[0m\u001b[0;34m]\u001b[0m\u001b[0;34m,\u001b[0m\u001b[0;34m\u001b[0m\u001b[0;34m\u001b[0m\u001b[0m\n\u001b[0;32m---> 65\u001b[0;31m     \u001b[0msavefile\u001b[0m\u001b[0;34m=\u001b[0m\u001b[0;34m\"posterior_pairplot_eta.png\"\u001b[0m\u001b[0;34m\u001b[0m\u001b[0;34m\u001b[0m\u001b[0m\n\u001b[0m\u001b[1;32m     66\u001b[0m )\n",
      "\u001b[0;32m/tmp/ipykernel_404312/3674394125.py\u001b[0m in \u001b[0;36mplot_posterior_sns_pairplot\u001b[0;34m(hdf5_file, discard, thin, labels, truths, savefile)\u001b[0m\n\u001b[1;32m     25\u001b[0m     \"\"\"\n\u001b[1;32m     26\u001b[0m     \u001b[0mbackend\u001b[0m \u001b[0;34m=\u001b[0m \u001b[0mHDFBackend\u001b[0m\u001b[0;34m(\u001b[0m\u001b[0mhdf5_file\u001b[0m\u001b[0;34m,\u001b[0m \u001b[0mread_only\u001b[0m\u001b[0;34m=\u001b[0m\u001b[0;32mTrue\u001b[0m\u001b[0;34m)\u001b[0m\u001b[0;34m\u001b[0m\u001b[0;34m\u001b[0m\u001b[0m\n\u001b[0;32m---> 27\u001b[0;31m     \u001b[0msamples\u001b[0m \u001b[0;34m=\u001b[0m \u001b[0mbackend\u001b[0m\u001b[0;34m.\u001b[0m\u001b[0mget_chain\u001b[0m\u001b[0;34m(\u001b[0m\u001b[0mdiscard\u001b[0m\u001b[0;34m=\u001b[0m\u001b[0mdiscard\u001b[0m\u001b[0;34m,\u001b[0m \u001b[0mthin\u001b[0m\u001b[0;34m=\u001b[0m\u001b[0mthin\u001b[0m\u001b[0;34m,\u001b[0m \u001b[0mflat\u001b[0m\u001b[0;34m=\u001b[0m\u001b[0;32mTrue\u001b[0m\u001b[0;34m)\u001b[0m\u001b[0;34m\u001b[0m\u001b[0;34m\u001b[0m\u001b[0m\n\u001b[0m\u001b[1;32m     28\u001b[0m \u001b[0;34m\u001b[0m\u001b[0m\n\u001b[1;32m     29\u001b[0m     \u001b[0mndim\u001b[0m \u001b[0;34m=\u001b[0m \u001b[0msamples\u001b[0m\u001b[0;34m.\u001b[0m\u001b[0mshape\u001b[0m\u001b[0;34m[\u001b[0m\u001b[0;36m1\u001b[0m\u001b[0;34m]\u001b[0m\u001b[0;34m\u001b[0m\u001b[0;34m\u001b[0m\u001b[0m\n",
      "\u001b[0;32m/opt/conda/conda-4.12.0/envs/python3/lib/python3.7/site-packages/emcee/backends/backend.py\u001b[0m in \u001b[0;36mget_chain\u001b[0;34m(self, **kwargs)\u001b[0m\n\u001b[1;32m     73\u001b[0m \u001b[0;34m\u001b[0m\u001b[0m\n\u001b[1;32m     74\u001b[0m         \"\"\"\n\u001b[0;32m---> 75\u001b[0;31m         \u001b[0;32mreturn\u001b[0m \u001b[0mself\u001b[0m\u001b[0;34m.\u001b[0m\u001b[0mget_value\u001b[0m\u001b[0;34m(\u001b[0m\u001b[0;34m\"chain\"\u001b[0m\u001b[0;34m,\u001b[0m \u001b[0;34m**\u001b[0m\u001b[0mkwargs\u001b[0m\u001b[0;34m)\u001b[0m\u001b[0;34m\u001b[0m\u001b[0;34m\u001b[0m\u001b[0m\n\u001b[0m\u001b[1;32m     76\u001b[0m \u001b[0;34m\u001b[0m\u001b[0m\n\u001b[1;32m     77\u001b[0m     \u001b[0;32mdef\u001b[0m \u001b[0mget_blobs\u001b[0m\u001b[0;34m(\u001b[0m\u001b[0mself\u001b[0m\u001b[0;34m,\u001b[0m \u001b[0;34m**\u001b[0m\u001b[0mkwargs\u001b[0m\u001b[0;34m)\u001b[0m\u001b[0;34m:\u001b[0m\u001b[0;34m\u001b[0m\u001b[0;34m\u001b[0m\u001b[0m\n",
      "\u001b[0;32m/opt/conda/conda-4.12.0/envs/python3/lib/python3.7/site-packages/emcee/backends/hdf.py\u001b[0m in \u001b[0;36mget_value\u001b[0;34m(self, name, flat, thin, discard)\u001b[0m\n\u001b[1;32m    151\u001b[0m         \u001b[0;32mif\u001b[0m \u001b[0;32mnot\u001b[0m \u001b[0mself\u001b[0m\u001b[0;34m.\u001b[0m\u001b[0minitialized\u001b[0m\u001b[0;34m:\u001b[0m\u001b[0;34m\u001b[0m\u001b[0;34m\u001b[0m\u001b[0m\n\u001b[1;32m    152\u001b[0m             raise AttributeError(\n\u001b[0;32m--> 153\u001b[0;31m                 \u001b[0;34m\"You must run the sampler with \"\u001b[0m\u001b[0;34m\u001b[0m\u001b[0;34m\u001b[0m\u001b[0m\n\u001b[0m\u001b[1;32m    154\u001b[0m                 \u001b[0;34m\"'store == True' before accessing the \"\u001b[0m\u001b[0;34m\u001b[0m\u001b[0;34m\u001b[0m\u001b[0m\n\u001b[1;32m    155\u001b[0m                 \u001b[0;34m\"results\"\u001b[0m\u001b[0;34m\u001b[0m\u001b[0;34m\u001b[0m\u001b[0m\n",
      "\u001b[0;31mAttributeError\u001b[0m: You must run the sampler with 'store == True' before accessing the results"
     ]
    }
   ],
   "source": [
    "import numpy as np\n",
    "import pandas as pd\n",
    "import seaborn as sns\n",
    "import matplotlib.pyplot as plt\n",
    "from emcee.backends import HDFBackend\n",
    "\n",
    "def plot_posterior_sns_pairplot(\n",
    "    hdf5_file,\n",
    "    discard=1000,\n",
    "    thin=10,\n",
    "    labels=None,\n",
    "    truths=None,\n",
    "    savefile=None\n",
    "):\n",
    "    \"\"\"\n",
    "    从 emcee 的 HDF5 后端文件中读取样本并用 seaborn 绘制 pairplot 图。\n",
    "\n",
    "    参数：\n",
    "    - hdf5_file: str，HDF5 文件路径\n",
    "    - discard: int，burn-in 步数\n",
    "    - thin: int，抽样间隔\n",
    "    - labels: list[str]，变量标签（列名）\n",
    "    - truths: list[float]，真值（可选）\n",
    "    - savefile: str，保存文件名（可选）\n",
    "    \"\"\"\n",
    "    backend = HDFBackend(hdf5_file, read_only=True)\n",
    "    samples = backend.get_chain(discard=discard, thin=thin, flat=True)\n",
    "\n",
    "    ndim = samples.shape[1]\n",
    "    if labels is None:\n",
    "        labels = [f\"$\\\\theta_{i}$\" for i in range(ndim)]\n",
    "\n",
    "    # 构建 pandas DataFrame\n",
    "    df = pd.DataFrame(samples, columns=labels)\n",
    "\n",
    "    # pairplot 绘图\n",
    "    g = sns.pairplot(\n",
    "        df,\n",
    "        corner=True,           # 不画对角线右上部分\n",
    "        diag_kind=\"hist\",      # 直方图对角线\n",
    "        plot_kws=dict(s=5, alpha=0.2),  # 控制散点图\n",
    "    )\n",
    "\n",
    "    if truths is not None:\n",
    "        for i, truth in enumerate(truths):\n",
    "            if truth is None:\n",
    "                continue\n",
    "            var = labels[i]\n",
    "            # 对角线添加真值线\n",
    "            ax = g.axes[i][i]\n",
    "            ax.axvline(truth, color=\"red\", linestyle=\"--\")\n",
    "\n",
    "    if savefile:\n",
    "        plt.savefig(savefile, bbox_inches=\"tight\", dpi=300)\n",
    "        print(f\"[INFO] 图已保存到: {savefile}\")\n",
    "\n",
    "    plt.show()\n",
    "\n",
    "plot_posterior_sns_pairplot(\n",
    "    hdf5_file=\"./\",\n",
    "    discard=500,\n",
    "    thin=10,\n",
    "    labels=[r\"$\\mu_{\\rm DM}$\", r\"$\\sigma_{\\rm DM}$\", r\"$\\mu_\\alpha$\", r\"$\\sigma_\\alpha$\"],\n",
    "    truths=[12.4, 0.3, 0.1, 0.1],\n",
    "    savefile=\"posterior_pairplot_eta.png\"\n",
    ")\n"
   ]
  },
  {
   "cell_type": "code",
   "execution_count": 66,
   "id": "a89fd62f-1ccd-4a9f-b9a0-93538a19582b",
   "metadata": {
    "execution": {
     "iopub.execute_input": "2025-07-29T03:39:44.456957Z",
     "iopub.status.busy": "2025-07-29T03:39:44.456532Z",
     "iopub.status.idle": "2025-07-29T03:39:44.460832Z",
     "shell.execute_reply": "2025-07-29T03:39:44.460160Z",
     "shell.execute_reply.started": "2025-07-29T03:39:44.456935Z"
    }
   },
   "outputs": [
    {
     "name": "stdout",
     "output_type": "stream",
     "text": [
      "emcee version: 3.1.2\n"
     ]
    }
   ],
   "source": [
    "import emcee\n",
    "print(\"emcee version:\", emcee.__version__)\n"
   ]
  },
  {
   "cell_type": "code",
   "execution_count": null,
   "id": "91cc50f7-47c8-4cc9-9e04-978773e3ad15",
   "metadata": {},
   "outputs": [],
   "source": []
  }
 ],
 "metadata": {
  "kernelspec": {
   "display_name": "Python3.7 (sys)",
   "language": "python",
   "name": "python3.7"
  },
  "language_info": {
   "codemirror_mode": {
    "name": "ipython",
    "version": 3
   },
   "file_extension": ".py",
   "mimetype": "text/x-python",
   "name": "python",
   "nbconvert_exporter": "python",
   "pygments_lexer": "ipython3",
   "version": "3.7.10"
  }
 },
 "nbformat": 4,
 "nbformat_minor": 5
}
